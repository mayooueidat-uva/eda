{
 "cells": [
  {
   "cell_type": "code",
   "execution_count": 1,
   "metadata": {},
   "outputs": [
    {
     "name": "stderr",
     "output_type": "stream",
     "text": [
      "/usr/lib/python3/dist-packages/pytz/__init__.py:31: SyntaxWarning: invalid escape sequence '\\s'\n",
      "  match = re.match(\"^#\\s*version\\s*([0-9a-z]*)\\s*$\", line)\n"
     ]
    }
   ],
   "source": [
    "# loading in our packages\n",
    "import pandas as pd \n",
    "import numpy as np \n",
    "import matplotlib.pyplot as plt\n",
    "import seaborn as sns\n",
    "import itertools"
   ]
  },
  {
   "cell_type": "markdown",
   "metadata": {},
   "source": [
    "# Assignment: Exploratory Data Analysis\n",
    "### `! git clone https://github.com/ds4e/EDA`\n",
    "### Do Q1 and two other questions."
   ]
  },
  {
   "cell_type": "markdown",
   "metadata": {},
   "source": [
    "**Q1.** In class, we talked about how to compute the sample mean of a variable $X$,\n",
    "$$\n",
    "m(X) = \\dfrac{1}{N} \\sum_{i=1}^N x_i\n",
    "$$\n",
    "and sample covariance of two variables $X$ and $Y$,\n",
    "$$\n",
    "\\text{cov}(X,Y) = \\dfrac{1}{N} \\sum_{i=1}^N (x_i - m(X))(y_i - m(Y))).\n",
    "$$\n",
    "Recall, the sample variance of $X$ is\n",
    "$$\n",
    "s^2 = \\dfrac{1}{N} \\sum_{i=1}^N (x_i - m(X))^2.\n",
    "$$\n",
    "It can be very helpful to understand some basic properties of these statistics. If you want to write your calculations on a piece of paper, take a photo, and upload that to your GitHub repo, that's probably easiest.\n",
    "\n",
    "1. ~~Show that $m(a + bX) = a+b \\times m(X)$.~~\n",
    "2. ~~Show that $\\text{cov}(X,a+bY) = b \\times \\text{cov}(X,Y)$~~\n",
    "3. ~~Show that $\\text{cov}(a+bX,a+bX) = b^2 \\text{cov}(X,X) $, and in particular that $\\text{cov}(X,X) = s^2 $.~~\n",
    "4. ~~Instead of the mean, consider the median. Consider transformations that are non-decreasing (if $x\\ge x'$, then $g(x)\\ge g(x')$), like $2+5 \\times X$ or $\\text{arcsinh}(X)$. Is a non-decreasing transformation of the median the median of the transformed variable? Explain.~~ ~~Does your answer apply to any quantile? The IQR? The range?~~\n",
    "5. ~~Consider a non-decreasing transformation $g()$. Is is always true that $m(g(X))= g(m(X))$?~~"
   ]
  },
  {
   "cell_type": "markdown",
   "metadata": {},
   "source": [
    "#### part one"
   ]
  },
  {
   "cell_type": "code",
   "execution_count": 2,
   "metadata": {},
   "outputs": [],
   "source": [
    "# i needa generate a bunch of random datapoints to fit in 'x'. \n",
    "\n",
    "# using the RNG from the 'programming' assignment to create these datapoints. \n",
    "import numpy as np\n",
    "import math as math\n",
    "np.random.seed(100) # Set the seed for the random number generator\n",
    "rho, sigma_x, sigma_y = -.4, 3, 2 # Variance-Covariance Parameters\n",
    "vcv = np.array([[sigma_x**2, rho*sigma_x*sigma_y],\n",
    "                [rho*sigma_x*sigma_y,sigma_y**2]]) # VCV Matrix\n",
    "mu = np.array([-1,2]) # Population averages\n",
    "sample = np.random.multivariate_normal(mu,vcv,200) # Multivariate normal draws\n",
    "x = sample[:,0] # all values corresponding to the first column in your matrix.\n",
    "y = sample[:,1] "
   ]
  },
  {
   "cell_type": "code",
   "execution_count": 3,
   "metadata": {},
   "outputs": [
    {
     "data": {
      "text/plain": [
       "-5.899806430403439"
      ]
     },
     "execution_count": 3,
     "metadata": {},
     "output_type": "execute_result"
    }
   ],
   "source": [
    "# calculating m(a + bX) \n",
    "a = 5\n",
    "b = 10\n",
    "values_to_average = []\n",
    "for i in x: \n",
    "    val = a+(b*i)\n",
    "    values_to_average.append(val)\n",
    "values_to_average[1:5] # nice, our algorithm worked \n",
    "# our final answer\n",
    "x_bar_1 = np.mean(values_to_average).item()\n",
    "x_bar_1"
   ]
  },
  {
   "cell_type": "code",
   "execution_count": 4,
   "metadata": {},
   "outputs": [
    {
     "data": {
      "text/plain": [
       "-5.899806430403437"
      ]
     },
     "execution_count": 4,
     "metadata": {},
     "output_type": "execute_result"
    }
   ],
   "source": [
    "# calculating a+b*m(X)\n",
    "x_bar = np.mean(x).item()\n",
    "thingy_to_add_to_a = b*x_bar\n",
    "x_bar_2 = a+thingy_to_add_to_a\n",
    "x_bar_2\n",
    "# they are the same \n",
    "\n",
    "# what's so important about them being the same, though? "
   ]
  },
  {
   "cell_type": "markdown",
   "metadata": {},
   "source": [
    "#### part two"
   ]
  },
  {
   "cell_type": "code",
   "execution_count": 5,
   "metadata": {},
   "outputs": [
    {
     "data": {
      "text/plain": [
       "[34.50601241860406, 44.872595231219144, 10.313211827070592, 26.888317625573045]"
      ]
     },
     "execution_count": 5,
     "metadata": {},
     "output_type": "execute_result"
    }
   ],
   "source": [
    "# we've already randomly generated our data, and also defined a and b. \n",
    "# so we're gonna calculate a+bY\n",
    "values_for_covariance_ys = []\n",
    "for i in y: \n",
    "    val = a+(b*i)\n",
    "    val = val.item()\n",
    "    values_for_covariance_ys.append(val)\n",
    "# printing out the first few items in the list just to make sure that our...\n",
    "# ...code worked properly. \n",
    "values_for_covariance_ys[1:5]"
   ]
  },
  {
   "cell_type": "code",
   "execution_count": 6,
   "metadata": {},
   "outputs": [
    {
     "data": {
      "text/plain": [
       "-28.396505928938772"
      ]
     },
     "execution_count": 6,
     "metadata": {},
     "output_type": "execute_result"
    }
   ],
   "source": [
    "# calculating the first covariance that was asked for\n",
    "# copying, pasting, and modifying work from a previous assignment. \n",
    "# work smarter not harder\n",
    "def y_bar(y):\n",
    "  sample_mean_1 = (np.sum(y))/(len(y))\n",
    "  return sample_mean_1\n",
    "y_bar(values_for_covariance_ys)\n",
    "\n",
    "def sample_cov(x, y):\n",
    "  x_vals = []\n",
    "  y_vals = []\n",
    "  xy_vals = []\n",
    "  for i in x:\n",
    "    # calculating each (xn-xbar) value for numerator\n",
    "    x_val = i-x_bar\n",
    "    # appending to a list\n",
    "    x_vals.append(x_val)\n",
    "  for i in y:\n",
    "    # calculating each (yn-ybar) value for numerator\n",
    "    y_val = i-y_bar(y)\n",
    "    # appending to a list\n",
    "    y_vals.append(y_val)\n",
    "  for (i, n) in zip(x_vals, y_vals):\n",
    "    # calculating each (xn-xbar)*(yn-ybar) value in numerator\n",
    "    xy_val = i*n\n",
    "    xy_vals.append(xy_val)\n",
    "  # summing up all values in numerator, dividing them by N-1\n",
    "  return (np.sum(xy_vals)/(len(xy_vals)-1)).item()\n",
    "sample_cov(x,values_for_covariance_ys)"
   ]
  },
  {
   "cell_type": "code",
   "execution_count": 7,
   "metadata": {},
   "outputs": [
    {
     "data": {
      "text/plain": [
       "-28.396505928938772"
      ]
     },
     "execution_count": 7,
     "metadata": {},
     "output_type": "execute_result"
    }
   ],
   "source": [
    "# calculating the second covariance that was asked for\n",
    "b*sample_cov(x,y)\n",
    "# these are also the same"
   ]
  },
  {
   "cell_type": "markdown",
   "metadata": {},
   "source": [
    "#### part three"
   ]
  },
  {
   "cell_type": "code",
   "execution_count": 8,
   "metadata": {},
   "outputs": [
    {
     "data": {
      "text/plain": [
       "1078.9899016136324"
      ]
     },
     "execution_count": 8,
     "metadata": {},
     "output_type": "execute_result"
    }
   ],
   "source": [
    "# a+bX\n",
    "# we already had that saved as values_to_average, let's rename it so we...\n",
    "# ...can properly work with it \n",
    "values_for_cov = values_to_average \n",
    "\n",
    "# calculating cov(a+bX, a+bX)\n",
    "sample_cov(values_for_cov, values_for_cov)"
   ]
  },
  {
   "cell_type": "code",
   "execution_count": 9,
   "metadata": {},
   "outputs": [
    {
     "data": {
      "text/plain": [
       "1078.9899016136324"
      ]
     },
     "execution_count": 9,
     "metadata": {},
     "output_type": "execute_result"
    }
   ],
   "source": [
    "# calculating b^2*cov(X, X) \n",
    "(b**2)*sample_cov(x, x)\n",
    "# yep they're the same once again. "
   ]
  },
  {
   "cell_type": "code",
   "execution_count": 10,
   "metadata": {},
   "outputs": [
    {
     "data": {
      "text/plain": [
       "10.789899016136323"
      ]
     },
     "execution_count": 10,
     "metadata": {},
     "output_type": "execute_result"
    }
   ],
   "source": [
    "# we also need to take a peek at the sample variance \n",
    "# our sample variance function will look extremely similar to our...\n",
    "# ...covariance function but it will only need one value (our x value)...\n",
    "# ...as input. \n",
    "def sample_variance(x):\n",
    "    x_vals = []\n",
    "    xsq_vals = []\n",
    "    for i in x: \n",
    "        x_val = i-x_bar\n",
    "        x_vals.append(x_val) \n",
    "    for i in x_vals:\n",
    "        xsq_val = i*i\n",
    "        xsq_vals.append(xsq_val)\n",
    "    return (np.sum(xsq_vals)/(len(xsq_vals)-1)).item()\n",
    "sample_variance(x)"
   ]
  },
  {
   "cell_type": "code",
   "execution_count": 11,
   "metadata": {},
   "outputs": [
    {
     "data": {
      "text/plain": [
       "10.789899016136323"
      ]
     },
     "execution_count": 11,
     "metadata": {},
     "output_type": "execute_result"
    }
   ],
   "source": [
    "# is the sample variance the same as covariance of x and x? \n",
    "sample_cov(x,x)\n",
    "# yep! "
   ]
  },
  {
   "cell_type": "markdown",
   "metadata": {},
   "source": [
    "#### part four"
   ]
  },
  {
   "cell_type": "markdown",
   "metadata": {},
   "source": [
    "I needed to re-define \"non-decreasing transformations\" for myself. \n",
    "\n",
    "- Non-decreasing functions are functions that never decrease (so exactly what it says on the tin).\n",
    "- They are a type of monotonic function, which means that they preserve or reverse the order of the set it uses as input. Non-decreasing functions always preserve the order of the sets they use as input.\n",
    "\n",
    "Bearing this in mind...\n",
    "- The median of a function is always going to be in the middle of a set. If our set has an odd number of values, it will be the number in the middle, and if our set has an even number of values, it will be the mean of the two middle numbers.\n",
    "- If a set is transformed with a non-decreasing function, then the number (NOT THE VALUE OF THAT NUMBER, TO BE CLEAR) that was the median before the set's transformation will also be the median after transformation. (The number's ordinality does not change, basically.) \n",
    "- So yes, the non-decreasing transformation of a median would be the same as the median of the transformed set. \n",
    "\n",
    "We can demonstrate this below! "
   ]
  },
  {
   "cell_type": "code",
   "execution_count": 12,
   "metadata": {},
   "outputs": [
    {
     "data": {
      "text/plain": [
       "-1.0015453123146276"
      ]
     },
     "execution_count": 12,
     "metadata": {},
     "output_type": "execute_result"
    }
   ],
   "source": [
    "# is a non-decreasing transformation of the median the median...\n",
    "# ...of the transformed variable? \n",
    "# is there a way to get the median of x? yes there is\n",
    "import statistics \n",
    "median_x = statistics.median(x).item()\n",
    "median_x"
   ]
  },
  {
   "cell_type": "code",
   "execution_count": 13,
   "metadata": {},
   "outputs": [
    {
     "data": {
      "text/plain": [
       "-0.882436568730216"
      ]
     },
     "execution_count": 13,
     "metadata": {},
     "output_type": "execute_result"
    }
   ],
   "source": [
    "# lets see if we can transform x \n",
    "arcsinh_x = np.arcsinh(x)\n",
    "\n",
    "# let's find the median of our transformed data. \n",
    "# 'the same as the median of the transformed set'\n",
    "arcsinh_x_median = statistics.median(arcsinh_x).item()\n",
    "arcsinh_x_median"
   ]
  },
  {
   "cell_type": "code",
   "execution_count": 14,
   "metadata": {},
   "outputs": [
    {
     "data": {
      "text/plain": [
       "-0.8824658658040464"
      ]
     },
     "execution_count": 14,
     "metadata": {},
     "output_type": "execute_result"
    }
   ],
   "source": [
    "# we can also find the arcsinh of the median we calculated for x. \n",
    "# 'the non-decreasing transformation of a median'\n",
    "arcsinh_median_of_x = np.arcsinh(median_x).item()\n",
    "arcsinh_median_of_x\n",
    "# yes! they're the same! "
   ]
  },
  {
   "cell_type": "markdown",
   "metadata": {},
   "source": [
    "\"Does your answer apply to any quantile? The IQR? The range?\"\n",
    "Yes, it would. Because non-decreasing functions preserve the order of the set used as input, the numbers that certain represented summary statistics before transformation will represent those summary statistics after their transformation as well. When I say \"certain summary statistics,\" I mean summary statistics that pertain to the position of numbers in a set; and median, quantile, IQR, and range all fit under that umbrella. The ordinality/position of the numbers in the set never changed, even though their values *have* changed. "
   ]
  },
  {
   "cell_type": "code",
   "execution_count": 15,
   "metadata": {},
   "outputs": [
    {
     "data": {
      "text/html": [
       "<div>\n",
       "<style scoped>\n",
       "    .dataframe tbody tr th:only-of-type {\n",
       "        vertical-align: middle;\n",
       "    }\n",
       "\n",
       "    .dataframe tbody tr th {\n",
       "        vertical-align: top;\n",
       "    }\n",
       "\n",
       "    .dataframe thead th {\n",
       "        text-align: right;\n",
       "    }\n",
       "</style>\n",
       "<table border=\"1\" class=\"dataframe\">\n",
       "  <thead>\n",
       "    <tr style=\"text-align: right;\">\n",
       "      <th></th>\n",
       "      <th>0</th>\n",
       "    </tr>\n",
       "  </thead>\n",
       "  <tbody>\n",
       "    <tr>\n",
       "      <th>count</th>\n",
       "      <td>200.000000</td>\n",
       "    </tr>\n",
       "    <tr>\n",
       "      <th>mean</th>\n",
       "      <td>-0.541387</td>\n",
       "    </tr>\n",
       "    <tr>\n",
       "      <th>std</th>\n",
       "      <td>1.605188</td>\n",
       "    </tr>\n",
       "    <tr>\n",
       "      <th>min</th>\n",
       "      <td>-3.023054</td>\n",
       "    </tr>\n",
       "    <tr>\n",
       "      <th>25%</th>\n",
       "      <td>-1.917848</td>\n",
       "    </tr>\n",
       "    <tr>\n",
       "      <th>50%</th>\n",
       "      <td>-0.882437</td>\n",
       "    </tr>\n",
       "    <tr>\n",
       "      <th>75%</th>\n",
       "      <td>0.704035</td>\n",
       "    </tr>\n",
       "    <tr>\n",
       "      <th>max</th>\n",
       "      <td>2.742364</td>\n",
       "    </tr>\n",
       "  </tbody>\n",
       "</table>\n",
       "</div>"
      ],
      "text/plain": [
       "                0\n",
       "count  200.000000\n",
       "mean    -0.541387\n",
       "std      1.605188\n",
       "min     -3.023054\n",
       "25%     -1.917848\n",
       "50%     -0.882437\n",
       "75%      0.704035\n",
       "max      2.742364"
      ]
     },
     "execution_count": 15,
     "metadata": {},
     "output_type": "execute_result"
    }
   ],
   "source": [
    "# though it's always a good idea to test the theory. \n",
    "# i will test it with IQR\n",
    "# summary statistics of transformed x\n",
    "pd.DataFrame(arcsinh_x).describe()"
   ]
  },
  {
   "cell_type": "code",
   "execution_count": 16,
   "metadata": {},
   "outputs": [
    {
     "data": {
      "text/html": [
       "<div>\n",
       "<style scoped>\n",
       "    .dataframe tbody tr th:only-of-type {\n",
       "        vertical-align: middle;\n",
       "    }\n",
       "\n",
       "    .dataframe tbody tr th {\n",
       "        vertical-align: top;\n",
       "    }\n",
       "\n",
       "    .dataframe thead th {\n",
       "        text-align: right;\n",
       "    }\n",
       "</style>\n",
       "<table border=\"1\" class=\"dataframe\">\n",
       "  <thead>\n",
       "    <tr style=\"text-align: right;\">\n",
       "      <th></th>\n",
       "      <th>0</th>\n",
       "    </tr>\n",
       "  </thead>\n",
       "  <tbody>\n",
       "    <tr>\n",
       "      <th>count</th>\n",
       "      <td>200.000000</td>\n",
       "    </tr>\n",
       "    <tr>\n",
       "      <th>mean</th>\n",
       "      <td>-1.089981</td>\n",
       "    </tr>\n",
       "    <tr>\n",
       "      <th>std</th>\n",
       "      <td>3.284798</td>\n",
       "    </tr>\n",
       "    <tr>\n",
       "      <th>min</th>\n",
       "      <td>-10.252662</td>\n",
       "    </tr>\n",
       "    <tr>\n",
       "      <th>25%</th>\n",
       "      <td>-3.329691</td>\n",
       "    </tr>\n",
       "    <tr>\n",
       "      <th>50%</th>\n",
       "      <td>-1.001545</td>\n",
       "    </tr>\n",
       "    <tr>\n",
       "      <th>75%</th>\n",
       "      <td>0.763674</td>\n",
       "    </tr>\n",
       "    <tr>\n",
       "      <th>max</th>\n",
       "      <td>7.729610</td>\n",
       "    </tr>\n",
       "  </tbody>\n",
       "</table>\n",
       "</div>"
      ],
      "text/plain": [
       "                0\n",
       "count  200.000000\n",
       "mean    -1.089981\n",
       "std      3.284798\n",
       "min    -10.252662\n",
       "25%     -3.329691\n",
       "50%     -1.001545\n",
       "75%      0.763674\n",
       "max      7.729610"
      ]
     },
     "execution_count": 16,
     "metadata": {},
     "output_type": "execute_result"
    }
   ],
   "source": [
    "# summary statistics of x we can transform\n",
    "pd.DataFrame(x).describe()"
   ]
  },
  {
   "cell_type": "code",
   "execution_count": 17,
   "metadata": {},
   "outputs": [
    {
     "name": "stdout",
     "output_type": "stream",
     "text": [
      "-1.9178493303769566\n",
      "-0.8824656451348053\n",
      "0.7040504994610307\n"
     ]
    }
   ],
   "source": [
    "# let's look at the arcsinhs of values we use to calculate iqr\n",
    "print(np.arcsinh(-3.329691)) # 25th percentile\n",
    "print(np.arcsinh(-1.001545)) # 50th percentile\n",
    "print(np.arcsinh(0.763674)) # 75th percentile\n",
    "# yep i'm right! "
   ]
  },
  {
   "cell_type": "markdown",
   "metadata": {},
   "source": [
    "#### part five\n",
    "The question in english: 'is it always true that the mean of a transformation of X is the same as the transformation of a mean of X?' \n",
    "\n",
    "I need to give a concreate example of what the question is asking for - just for myself, just so I know what I'm doing. \n",
    "- Let's say that our transformation function 'g' is the inverse hyperbolic sine. (It doesn't have to be, just using an example)\n",
    "- Our mean function 'm' obviously finds the mean of whatever we plug in. \n",
    "- g(m(X)) and m(g(X)) are composite functions. \n",
    "- g(m(X)) will find the inverse hyperbolic sine of the mean of quantities in our vector X. \n",
    "- m(g(X)) will find the mean of the inverse hyperbolic sines of quantities in our vector X.\n",
    "\n",
    "Now onto actually answering the question...\n",
    "- Composite functions f(g(x)) and g(f(x)) (I'll call functions of these sorts \"complementary composite functions\") *do not necessarily* have to equal one another. \n",
    "- My hypothesis is that m(g(X)) and g(m(X)) will *not* equal one another because the transformation exists for the sole purpose of changing our data's distribution to make it more useable, and it would make no sense to \"protect\" the mean from our transformation in any way. The mean of arcsinh of all data points, in fact, *should* be completely different from the arcsinh of the mean.  \n",
    "- The mean also has nothing to do with the ordinality of points in our dataset, so the special properties of non-decreasing functions do not guard it the way it would guard the median."
   ]
  },
  {
   "cell_type": "code",
   "execution_count": 18,
   "metadata": {},
   "outputs": [
    {
     "name": "stdout",
     "output_type": "stream",
     "text": [
      "-1.0899806430403438\n",
      "-0.9435903426488115\n"
     ]
    }
   ],
   "source": [
    "# but we can test whether f(g(x)) = g(f(x)) in this specific context.\n",
    "# let's take the mean, and then find the inverse hyperbolic sine of it. \n",
    "mean_x = np.mean(x).item()\n",
    "print(mean_x)\n",
    "print(np.arcsinh(mean_x))"
   ]
  },
  {
   "cell_type": "code",
   "execution_count": 19,
   "metadata": {},
   "outputs": [
    {
     "data": {
      "text/plain": [
       "-0.5413865464888381"
      ]
     },
     "execution_count": 19,
     "metadata": {},
     "output_type": "execute_result"
    }
   ],
   "source": [
    "# we'll also take the inverse hyperbolic sine of all points in our dataset x... \n",
    "# ...and find their mean. \n",
    "np.mean(arcsinh_x).item()\n",
    "# yeah, it's different. "
   ]
  },
  {
   "cell_type": "markdown",
   "metadata": {},
   "source": [
    "**Q2.** This question looks at financial transfers from foreign entities to American universities. In particular, from which countries and giftors are the gifts coming from, and to which institutions are they going? For this question, `.groupby([vars]).count()` and `.groupby([vars]).sum()` will be especially useful to tally the number of occurrences and sum the values of those occurrences.\n",
    "\n",
    "1. ~~Load the `./data/ForeignGifts_edu.csv` dataset.~~\n",
    "2. ~~For `Foreign Gift Amount`, create a histogram~~ ~~and describe the variable.~~ ~~Describe your findings.~~\n",
    "3. ~~For `Gift Type`, create a histogram or value counts table. What proportion of the gifts are contracts, real estate, and monetary gifts?~~\n",
    "4. ~~Create a kernel density plot of the log of `Foreign Gift Amount`,~~ ~~and then a kernel density plot of the log of `Foreign Gift Amount` conditional on gift type.~~ ~~Do you notice any patterns?~~\n",
    "5. ~~What are the top 15 countries in terms of the number of gifts? What are the top 15 countries in terms of the amount given?~~\n",
    "6. ~~What are the top 15 institutions in terms of the total amount of money they receive?~~ ~~Make a histogram of the total amount received by all institutions.~~\n",
    "7. ~~Which giftors provide the most money, in total?~~"
   ]
  },
  {
   "cell_type": "markdown",
   "metadata": {},
   "source": [
    "#### part one"
   ]
  },
  {
   "cell_type": "code",
   "execution_count": 20,
   "metadata": {},
   "outputs": [
    {
     "data": {
      "text/html": [
       "<div>\n",
       "<style scoped>\n",
       "    .dataframe tbody tr th:only-of-type {\n",
       "        vertical-align: middle;\n",
       "    }\n",
       "\n",
       "    .dataframe tbody tr th {\n",
       "        vertical-align: top;\n",
       "    }\n",
       "\n",
       "    .dataframe thead th {\n",
       "        text-align: right;\n",
       "    }\n",
       "</style>\n",
       "<table border=\"1\" class=\"dataframe\">\n",
       "  <thead>\n",
       "    <tr style=\"text-align: right;\">\n",
       "      <th></th>\n",
       "      <th>ID</th>\n",
       "      <th>OPEID</th>\n",
       "      <th>Institution Name</th>\n",
       "      <th>City</th>\n",
       "      <th>State</th>\n",
       "      <th>Foreign Gift Received Date</th>\n",
       "      <th>Foreign Gift Amount</th>\n",
       "      <th>Gift Type</th>\n",
       "      <th>Country of Giftor</th>\n",
       "      <th>Giftor Name</th>\n",
       "    </tr>\n",
       "  </thead>\n",
       "  <tbody>\n",
       "    <tr>\n",
       "      <th>0</th>\n",
       "      <td>1</td>\n",
       "      <td>102000</td>\n",
       "      <td>Jacksonville State University</td>\n",
       "      <td>Jacksonville</td>\n",
       "      <td>AL</td>\n",
       "      <td>43738</td>\n",
       "      <td>250000</td>\n",
       "      <td>Monetary Gift</td>\n",
       "      <td>CHINA</td>\n",
       "      <td>NaN</td>\n",
       "    </tr>\n",
       "    <tr>\n",
       "      <th>1</th>\n",
       "      <td>2</td>\n",
       "      <td>104700</td>\n",
       "      <td>Troy University</td>\n",
       "      <td>Troy</td>\n",
       "      <td>AL</td>\n",
       "      <td>43592</td>\n",
       "      <td>463657</td>\n",
       "      <td>Contract</td>\n",
       "      <td>CHINA</td>\n",
       "      <td>Confucius Institute Headquarters</td>\n",
       "    </tr>\n",
       "    <tr>\n",
       "      <th>2</th>\n",
       "      <td>3</td>\n",
       "      <td>105100</td>\n",
       "      <td>University of Alabama</td>\n",
       "      <td>Tuscaloosa</td>\n",
       "      <td>AL</td>\n",
       "      <td>43466</td>\n",
       "      <td>3649107</td>\n",
       "      <td>Contract</td>\n",
       "      <td>ENGLAND</td>\n",
       "      <td>Springer Nature Customer Service Ce</td>\n",
       "    </tr>\n",
       "    <tr>\n",
       "      <th>3</th>\n",
       "      <td>4</td>\n",
       "      <td>105100</td>\n",
       "      <td>University of Alabama</td>\n",
       "      <td>Tuscaloosa</td>\n",
       "      <td>AL</td>\n",
       "      <td>43472</td>\n",
       "      <td>1000</td>\n",
       "      <td>Contract</td>\n",
       "      <td>SAUDI ARABIA</td>\n",
       "      <td>Saudi Arabia Education Mission</td>\n",
       "    </tr>\n",
       "    <tr>\n",
       "      <th>4</th>\n",
       "      <td>5</td>\n",
       "      <td>105100</td>\n",
       "      <td>University of Alabama</td>\n",
       "      <td>Tuscaloosa</td>\n",
       "      <td>AL</td>\n",
       "      <td>43479</td>\n",
       "      <td>49476</td>\n",
       "      <td>Contract</td>\n",
       "      <td>SAUDI ARABIA</td>\n",
       "      <td>Saudi Arabia Education Mission</td>\n",
       "    </tr>\n",
       "  </tbody>\n",
       "</table>\n",
       "</div>"
      ],
      "text/plain": [
       "   ID   OPEID               Institution Name          City State  \\\n",
       "0   1  102000  Jacksonville State University  Jacksonville    AL   \n",
       "1   2  104700                Troy University          Troy    AL   \n",
       "2   3  105100          University of Alabama    Tuscaloosa    AL   \n",
       "3   4  105100          University of Alabama    Tuscaloosa    AL   \n",
       "4   5  105100          University of Alabama    Tuscaloosa    AL   \n",
       "\n",
       "   Foreign Gift Received Date  Foreign Gift Amount      Gift Type  \\\n",
       "0                       43738               250000  Monetary Gift   \n",
       "1                       43592               463657       Contract   \n",
       "2                       43466              3649107       Contract   \n",
       "3                       43472                 1000       Contract   \n",
       "4                       43479                49476       Contract   \n",
       "\n",
       "  Country of Giftor                          Giftor Name  \n",
       "0             CHINA                                  NaN  \n",
       "1             CHINA     Confucius Institute Headquarters  \n",
       "2           ENGLAND  Springer Nature Customer Service Ce  \n",
       "3      SAUDI ARABIA       Saudi Arabia Education Mission  \n",
       "4      SAUDI ARABIA       Saudi Arabia Education Mission  "
      ]
     },
     "execution_count": 20,
     "metadata": {},
     "output_type": "execute_result"
    }
   ],
   "source": [
    "# loading our data \n",
    "foreigngifts = pd.read_csv(\"./data/EDA/ForeignGifts_edu.csv\") \n",
    "foreigngifts.head()"
   ]
  },
  {
   "cell_type": "markdown",
   "metadata": {},
   "source": [
    "#### part two"
   ]
  },
  {
   "cell_type": "markdown",
   "metadata": {},
   "source": [
    "The variable 'foreign gift amount' describes the amount of money an institution has received from a certain other institution or organization in (presumably) US dollars. "
   ]
  },
  {
   "cell_type": "code",
   "execution_count": 21,
   "metadata": {},
   "outputs": [
    {
     "data": {
      "text/plain": [
       "(array([2.7996e+04, 1.1300e+02, 4.9000e+01, 2.3000e+01, 1.1000e+01,\n",
       "        3.0000e+00, 4.0000e+00, 1.5000e+01, 0.0000e+00, 7.0000e+00]),\n",
       " array([ -537770.        ,  9516006.9       , 19569783.8       ,\n",
       "        29623560.7       , 39677337.6       , 49731114.5       ,\n",
       "        59784891.40000001, 69838668.3       , 79892445.2       ,\n",
       "        89946222.10000001, 99999999.        ]),\n",
       " <BarContainer object of 10 artists>)"
      ]
     },
     "execution_count": 21,
     "metadata": {},
     "output_type": "execute_result"
    },
    {
     "data": {
      "image/png": "[encoded data removed]",
      "text/plain": [
       "<Figure size 640x480 with 1 Axes>"
      ]
     },
     "metadata": {},
     "output_type": "display_data"
    }
   ],
   "source": [
    "# foreign gift amount - histogram\n",
    "plt.hist(foreigngifts[\"Foreign Gift Amount\"])\n",
    "# seems like there are some MEGA OUTLIERS. \n",
    "# is there a way to 'zoom in' or do some EDA aside from the outliers? "
   ]
  },
  {
   "cell_type": "code",
   "execution_count": 22,
   "metadata": {},
   "outputs": [
    {
     "data": {
      "text/plain": [
       "count    2.822100e+04\n",
       "mean     5.882327e+05\n",
       "std      3.222011e+06\n",
       "min     -5.377700e+05\n",
       "25%      5.700000e+03\n",
       "50%      9.461500e+04\n",
       "75%      3.761420e+05\n",
       "max      1.000000e+08\n",
       "Name: Foreign Gift Amount, dtype: float64"
      ]
     },
     "execution_count": 22,
     "metadata": {},
     "output_type": "execute_result"
    }
   ],
   "source": [
    "# there are other ways of exploring the data, i guess. \n",
    "foreigngifts[\"Foreign Gift Amount\"].describe()\n",
    "# a max gift of a hundred million dollars is wild. \n",
    "# also, our minimum gift is 537,770. that means money was taken away from...\n",
    "# ...this person? \n",
    "\n",
    "# (printed below is a full description [in the form of summary statistics]\n",
    "# ...of our variable) "
   ]
  },
  {
   "cell_type": "code",
   "execution_count": 23,
   "metadata": {},
   "outputs": [
    {
     "data": {
      "text/plain": [
       "(array([1.0000e+00, 1.0000e+00, 1.5343e+04, 5.3350e+03, 2.9970e+03,\n",
       "        1.1310e+03, 9.8400e+02, 3.6900e+02, 2.4400e+02, 2.5500e+02,\n",
       "        1.5800e+02, 2.3000e+02, 8.5000e+01, 1.2200e+02, 5.5000e+01,\n",
       "        9.7000e+01, 4.4000e+01, 5.0000e+01, 4.8000e+01, 3.5000e+01,\n",
       "        5.3000e+01, 2.6000e+01, 2.6000e+01, 2.9000e+01, 2.5000e+01]),\n",
       " array([-537770., -316260.,  -94750.,  126760.,  348270.,  569780.,\n",
       "         791290., 1012800., 1234310., 1455820., 1677330., 1898840.,\n",
       "        2120350., 2341860., 2563370., 2784880., 3006390., 3227900.,\n",
       "        3449410., 3670920., 3892430., 4113940., 4335450., 4556960.,\n",
       "        4778470., 4999980.]),\n",
       " <BarContainer object of 25 artists>)"
      ]
     },
     "execution_count": 23,
     "metadata": {},
     "output_type": "execute_result"
    },
    {
     "data": {
      "image/png": "[encoded data removed]",
      "text/plain": [
       "<Figure size 640x480 with 1 Axes>"
      ]
     },
     "metadata": {},
     "output_type": "display_data"
    }
   ],
   "source": [
    "# gifts smaller than fifty million freaking dollars \n",
    "foreigngiftssmaller = foreigngifts[\"Foreign Gift Amount\"].where(foreigngifts[\"Foreign Gift Amount\"] < 5000000)\n",
    "plt.hist(foreigngiftssmaller, bins=25)"
   ]
  },
  {
   "cell_type": "code",
   "execution_count": 24,
   "metadata": {},
   "outputs": [
    {
     "data": {
      "text/plain": [
       "(array([234.,  82.,  30.,  25.,  10.,  27.,  13.,  10.,   7.,   3.,   3.,\n",
       "          7.,   1.,   0.,   1.,   1.,   2.,   0.,  14.,   1.,   0.,   0.,\n",
       "          0.,   0.,   7.]),\n",
       " array([ 5000000.        ,  8799999.96      , 12599999.92      ,\n",
       "        16399999.88      , 20199999.84      , 23999999.8       ,\n",
       "        27799999.76      , 31599999.72      , 35399999.68      ,\n",
       "        39199999.64      , 42999999.6       , 46799999.56      ,\n",
       "        50599999.52      , 54399999.48      , 58199999.44      ,\n",
       "        61999999.4       , 65799999.36      , 69599999.32      ,\n",
       "        73399999.28      , 77199999.24      , 80999999.2       ,\n",
       "        84799999.16      , 88599999.12      , 92399999.08      ,\n",
       "        96199999.03999999, 99999999.        ]),\n",
       " <BarContainer object of 25 artists>)"
      ]
     },
     "execution_count": 24,
     "metadata": {},
     "output_type": "execute_result"
    },
    {
     "data": {
      "image/png": "[encoded data removed]",
      "text/plain": [
       "<Figure size 640x480 with 1 Axes>"
      ]
     },
     "metadata": {},
     "output_type": "display_data"
    }
   ],
   "source": [
    "# gifts greater than or equal to fifty million dollars\n",
    "foreigngiftsbig = foreigngifts[\"Foreign Gift Amount\"].where(foreigngifts[\"Foreign Gift Amount\"] >= 5000000)\n",
    "plt.hist(foreigngiftsbig, bins=25)"
   ]
  },
  {
   "cell_type": "code",
   "execution_count": 25,
   "metadata": {},
   "outputs": [
    {
     "data": {
      "text/plain": [
       "Text(0.5, 1.0, 'distribution of value of foreign gifts given to institutions')"
      ]
     },
     "execution_count": 25,
     "metadata": {},
     "output_type": "execute_result"
    },
    {
     "data": {
      "image/png": "[encoded data removed]",
      "text/plain": [
       "<Figure size 640x480 with 1 Axes>"
      ]
     },
     "metadata": {},
     "output_type": "display_data"
    }
   ],
   "source": [
    "# histogram of inverse hyperbolic sine, so we can look at the distribution\n",
    "# (there are apparently negative values? so we shouldn't use log) \n",
    "foreigngifts['Foreign Gift Amount arcsinh'] = np.arcsinh(foreigngifts['Foreign Gift Amount'])\n",
    "fig, ax = plt.subplots()\n",
    "ax.hist(foreigngifts['Foreign Gift Amount arcsinh'], bins=30,color=\"#82abf2\")\n",
    "ax.set_xlabel(\"arcsinh of foreign gift amount\") \n",
    "ax.set_ylabel(\"number of gifts\")\n",
    "ax.set_title(\"distribution of value of foreign gifts given to institutions\") \n",
    "# here we go. arcsinh. "
   ]
  },
  {
   "cell_type": "markdown",
   "metadata": {},
   "source": [
    "some notes/findings\n",
    "- Our data is REALLY left skewed. That implies that the number of gifts with higher values are more concentrated in the dataset past the median.\n",
    "- Gifts with negative inverse hyperbolic sines are represented by more than one bin. Foreign institutions thus took away people's money more than once...? (The Google AI search result thing told me that inverse hyperbolic sine of a negative number will always be negative when I looked it up to double check)\n",
    "- A very visible tail peeks at right side of our histogram; the absurd gifts worth tens of millions of dollars are likely represented there. They may be outliers in our data, but there are enough of them that they're worth a second look if we want to properly assess our dataset. "
   ]
  },
  {
   "cell_type": "markdown",
   "metadata": {},
   "source": [
    "#### part three"
   ]
  },
  {
   "cell_type": "code",
   "execution_count": 26,
   "metadata": {},
   "outputs": [
    {
     "data": {
      "text/plain": [
       "<Axes: >"
      ]
     },
     "execution_count": 26,
     "metadata": {},
     "output_type": "execute_result"
    },
    {
     "data": {
      "image/png": "[encoded data removed]",
      "text/plain": [
       "<Figure size 640x480 with 1 Axes>"
      ]
     },
     "metadata": {},
     "output_type": "display_data"
    }
   ],
   "source": [
    "# here's a bar graph\n",
    "foreigngifts['Gift Type'].hist(bins=20, grid=False)\n",
    "# yeah that's not terribly useful"
   ]
  },
  {
   "cell_type": "code",
   "execution_count": 27,
   "metadata": {},
   "outputs": [
    {
     "data": {
      "text/plain": [
       "Gift Type\n",
       "Contract         17274\n",
       "Monetary Gift    10936\n",
       "Real Estate         11\n",
       "Name: count, dtype: int64"
      ]
     },
     "execution_count": 27,
     "metadata": {},
     "output_type": "execute_result"
    }
   ],
   "source": [
    "# a value-counts table will probably be more helpful.\n",
    "foreigngifts['Gift Type'].value_counts()\n",
    "# the proportion of gifts that are contract gifts is the largest. \n",
    "# the monetary gift category is about 2/3 the size of the contract...\n",
    "# ...gift category. \n",
    "# but there are very few real estate gifts in comparison. "
   ]
  },
  {
   "cell_type": "code",
   "execution_count": 28,
   "metadata": {},
   "outputs": [
    {
     "data": {
      "text/plain": [
       "Gift Type\n",
       "Contract         0.612097\n",
       "Monetary Gift    0.387513\n",
       "Real Estate      0.000390\n",
       "Name: count, dtype: float64"
      ]
     },
     "execution_count": 28,
     "metadata": {},
     "output_type": "execute_result"
    }
   ],
   "source": [
    "# i could just divide by len(foreigngifts[\"Gift Type\"]) to view proportions...\n",
    "# ...they are seen below! \n",
    "foreigngifts['Gift Type'].value_counts()/len(foreigngifts['Gift Type'])"
   ]
  },
  {
   "cell_type": "markdown",
   "metadata": {},
   "source": [
    "#### part four"
   ]
  },
  {
   "cell_type": "markdown",
   "metadata": {},
   "source": [
    "Create a kernel density plot of the log of `Foreign Gift Amount`, and then a kernel density plot of the log of `Foreign Gift Amount` conditional on gift type. Do you notice any patterns?"
   ]
  },
  {
   "cell_type": "code",
   "execution_count": 29,
   "metadata": {},
   "outputs": [
    {
     "data": {
      "text/plain": [
       "<Axes: ylabel='Density'>"
      ]
     },
     "execution_count": 29,
     "metadata": {},
     "output_type": "execute_result"
    },
    {
     "data": {
      "image/png": "[encoded data removed]",
      "text/plain": [
       "<Figure size 640x480 with 1 Axes>"
      ]
     },
     "metadata": {},
     "output_type": "display_data"
    }
   ],
   "source": [
    "# foreign gift kernel density diagram\n",
    "# normal version\n",
    "foreigngifts[\"Foreign Gift Amount\"].plot.density()\n",
    "# ew "
   ]
  },
  {
   "cell_type": "code",
   "execution_count": 30,
   "metadata": {},
   "outputs": [
    {
     "name": "stderr",
     "output_type": "stream",
     "text": [
      "/home/phisherman7/.local/lib/python3.12/site-packages/pandas/core/arraylike.py:399: RuntimeWarning: invalid value encountered in log\n",
      "  result = getattr(ufunc, method)(*inputs, **kwargs)\n"
     ]
    },
    {
     "data": {
      "text/plain": [
       "<Axes: ylabel='Density'>"
      ]
     },
     "execution_count": 30,
     "metadata": {},
     "output_type": "execute_result"
    },
    {
     "data": {
      "image/png": "[encoded data removed]",
      "text/plain": [
       "<Figure size 640x480 with 1 Axes>"
      ]
     },
     "metadata": {},
     "output_type": "display_data"
    }
   ],
   "source": [
    "# foreign gift kernel density of the LOG!!!\n",
    "foreigngifts['Foreign Gift Amount log'] = np.log(foreigngifts['Foreign Gift Amount'])\n",
    "foreigngifts['Foreign Gift Amount log'].plot.density()\n",
    "# we can see patterns much more clearly here. "
   ]
  },
  {
   "cell_type": "code",
   "execution_count": 31,
   "metadata": {},
   "outputs": [
    {
     "data": {
      "text/plain": [
       "[Text(0.5, 1.0, 'Grouped KDE Plot')]"
      ]
     },
     "execution_count": 31,
     "metadata": {},
     "output_type": "execute_result"
    },
    {
     "data": {
      "image/png": "[encoded data removed]",
      "text/plain": [
       "<Figure size 640x480 with 1 Axes>"
      ]
     },
     "metadata": {},
     "output_type": "display_data"
    }
   ],
   "source": [
    "# foreign gift kernel density of the log, stratified by gift type. \n",
    "conditioning = 'Gift Type'\n",
    "var = 'Foreign Gift Amount log'\n",
    "sns.kdeplot(data=foreigngifts, x=var, hue=conditioning, common_norm=False).set(title='Grouped KDE Plot')"
   ]
  },
  {
   "cell_type": "markdown",
   "metadata": {},
   "source": [
    "some insights: \n",
    "- There is a high concentration of \"monetary gifts\" at relatively lower gift values. You see a little peak around a log of 5. \"Monetary gifts\" are also fairly highly concentrated at medium-high values as well, though (between log of 10 and log of 15). They probably represent money sent to institutions to fund research or something. \n",
    "- On the other hand, \"Real Estate\" gift types are concentrated at higher prices. I assume that they're given to help institutions to (physically/geographically) expand. They also probably represent the massive outliers we see in our data - you know, those gifts worth millions of dollars. (I suppose this is an instance where we do not wish to exclude our outliers, and should pay close attention to them instead, because they say something significant about our data.)\n",
    "- \"Contract gifts\" (which I'm assuming represent gifts made in a contract between two institutions) are concentrated right between logs 10 and 15, but there is a small bump at log 10. "
   ]
  },
  {
   "cell_type": "markdown",
   "metadata": {},
   "source": [
    "#### part five"
   ]
  },
  {
   "cell_type": "markdown",
   "metadata": {},
   "source": [
    "5. What are the top 15 countries in terms of the number of gifts? What are the top 15 countries in terms of the amount given?"
   ]
  },
  {
   "cell_type": "code",
   "execution_count": 32,
   "metadata": {},
   "outputs": [
    {
     "data": {
      "text/html": [
       "<div>\n",
       "<style scoped>\n",
       "    .dataframe tbody tr th:only-of-type {\n",
       "        vertical-align: middle;\n",
       "    }\n",
       "\n",
       "    .dataframe tbody tr th {\n",
       "        vertical-align: top;\n",
       "    }\n",
       "\n",
       "    .dataframe thead th {\n",
       "        text-align: right;\n",
       "    }\n",
       "</style>\n",
       "<table border=\"1\" class=\"dataframe\">\n",
       "  <thead>\n",
       "    <tr style=\"text-align: right;\">\n",
       "      <th></th>\n",
       "      <th>count</th>\n",
       "    </tr>\n",
       "    <tr>\n",
       "      <th>Country of Giftor</th>\n",
       "      <th></th>\n",
       "    </tr>\n",
       "  </thead>\n",
       "  <tbody>\n",
       "    <tr>\n",
       "      <th>england</th>\n",
       "      <td>3655</td>\n",
       "    </tr>\n",
       "    <tr>\n",
       "      <th>china</th>\n",
       "      <td>2461</td>\n",
       "    </tr>\n",
       "    <tr>\n",
       "      <th>canada</th>\n",
       "      <td>2344</td>\n",
       "    </tr>\n",
       "    <tr>\n",
       "      <th>japan</th>\n",
       "      <td>1896</td>\n",
       "    </tr>\n",
       "    <tr>\n",
       "      <th>switzerland</th>\n",
       "      <td>1676</td>\n",
       "    </tr>\n",
       "    <tr>\n",
       "      <th>saudi arabia</th>\n",
       "      <td>1610</td>\n",
       "    </tr>\n",
       "    <tr>\n",
       "      <th>france</th>\n",
       "      <td>1437</td>\n",
       "    </tr>\n",
       "    <tr>\n",
       "      <th>germany</th>\n",
       "      <td>1394</td>\n",
       "    </tr>\n",
       "    <tr>\n",
       "      <th>hong kong</th>\n",
       "      <td>1080</td>\n",
       "    </tr>\n",
       "    <tr>\n",
       "      <th>south korea</th>\n",
       "      <td>811</td>\n",
       "    </tr>\n",
       "    <tr>\n",
       "      <th>qatar</th>\n",
       "      <td>693</td>\n",
       "    </tr>\n",
       "    <tr>\n",
       "      <th>the netherlands</th>\n",
       "      <td>512</td>\n",
       "    </tr>\n",
       "    <tr>\n",
       "      <th>korea</th>\n",
       "      <td>452</td>\n",
       "    </tr>\n",
       "    <tr>\n",
       "      <th>india</th>\n",
       "      <td>434</td>\n",
       "    </tr>\n",
       "    <tr>\n",
       "      <th>taiwan</th>\n",
       "      <td>381</td>\n",
       "    </tr>\n",
       "  </tbody>\n",
       "</table>\n",
       "</div>"
      ],
      "text/plain": [
       "                   count\n",
       "Country of Giftor       \n",
       "england             3655\n",
       "china               2461\n",
       "canada              2344\n",
       "japan               1896\n",
       "switzerland         1676\n",
       "saudi arabia        1610\n",
       "france              1437\n",
       "germany             1394\n",
       "hong kong           1080\n",
       "south korea          811\n",
       "qatar                693\n",
       "the netherlands      512\n",
       "korea                452\n",
       "india                434\n",
       "taiwan               381"
      ]
     },
     "execution_count": 32,
     "metadata": {},
     "output_type": "execute_result"
    }
   ],
   "source": [
    "# top fifteen countries in terms of number of gifts \n",
    "foreigngifts[\"Country of Giftor\"] = foreigngifts[\"Country of Giftor\"].str.lower()\n",
    "country_giftors_quant = pd.DataFrame(foreigngifts[\"Country of Giftor\"].value_counts())\n",
    "country_giftors_quant.head(15)"
   ]
  },
  {
   "cell_type": "code",
   "execution_count": 33,
   "metadata": {
    "scrolled": true
   },
   "outputs": [
    {
     "data": {
      "text/html": [
       "<div>\n",
       "<style scoped>\n",
       "    .dataframe tbody tr th:only-of-type {\n",
       "        vertical-align: middle;\n",
       "    }\n",
       "\n",
       "    .dataframe tbody tr th {\n",
       "        vertical-align: top;\n",
       "    }\n",
       "\n",
       "    .dataframe thead th {\n",
       "        text-align: right;\n",
       "    }\n",
       "</style>\n",
       "<table border=\"1\" class=\"dataframe\">\n",
       "  <thead>\n",
       "    <tr style=\"text-align: right;\">\n",
       "      <th></th>\n",
       "      <th>Foreign Gift Amount</th>\n",
       "    </tr>\n",
       "    <tr>\n",
       "      <th>Country of Giftor</th>\n",
       "      <th></th>\n",
       "    </tr>\n",
       "  </thead>\n",
       "  <tbody>\n",
       "    <tr>\n",
       "      <th>qatar</th>\n",
       "      <td>2706240869</td>\n",
       "    </tr>\n",
       "    <tr>\n",
       "      <th>england</th>\n",
       "      <td>1464906771</td>\n",
       "    </tr>\n",
       "    <tr>\n",
       "      <th>china</th>\n",
       "      <td>1237952112</td>\n",
       "    </tr>\n",
       "    <tr>\n",
       "      <th>saudi arabia</th>\n",
       "      <td>1065205930</td>\n",
       "    </tr>\n",
       "    <tr>\n",
       "      <th>bermuda</th>\n",
       "      <td>899593972</td>\n",
       "    </tr>\n",
       "    <tr>\n",
       "      <th>canada</th>\n",
       "      <td>898160656</td>\n",
       "    </tr>\n",
       "    <tr>\n",
       "      <th>hong kong</th>\n",
       "      <td>887402529</td>\n",
       "    </tr>\n",
       "    <tr>\n",
       "      <th>japan</th>\n",
       "      <td>655954776</td>\n",
       "    </tr>\n",
       "    <tr>\n",
       "      <th>switzerland</th>\n",
       "      <td>619899445</td>\n",
       "    </tr>\n",
       "    <tr>\n",
       "      <th>india</th>\n",
       "      <td>539556490</td>\n",
       "    </tr>\n",
       "    <tr>\n",
       "      <th>germany</th>\n",
       "      <td>442475605</td>\n",
       "    </tr>\n",
       "    <tr>\n",
       "      <th>united arab emirates</th>\n",
       "      <td>431396357</td>\n",
       "    </tr>\n",
       "    <tr>\n",
       "      <th>france</th>\n",
       "      <td>405839396</td>\n",
       "    </tr>\n",
       "    <tr>\n",
       "      <th>singapore</th>\n",
       "      <td>401157692</td>\n",
       "    </tr>\n",
       "    <tr>\n",
       "      <th>australia</th>\n",
       "      <td>248409202</td>\n",
       "    </tr>\n",
       "  </tbody>\n",
       "</table>\n",
       "</div>"
      ],
      "text/plain": [
       "                      Foreign Gift Amount\n",
       "Country of Giftor                        \n",
       "qatar                          2706240869\n",
       "england                        1464906771\n",
       "china                          1237952112\n",
       "saudi arabia                   1065205930\n",
       "bermuda                         899593972\n",
       "canada                          898160656\n",
       "hong kong                       887402529\n",
       "japan                           655954776\n",
       "switzerland                     619899445\n",
       "india                           539556490\n",
       "germany                         442475605\n",
       "united arab emirates            431396357\n",
       "france                          405839396\n",
       "singapore                       401157692\n",
       "australia                       248409202"
      ]
     },
     "execution_count": 33,
     "metadata": {},
     "output_type": "execute_result"
    }
   ],
   "source": [
    "# top fifteen countries ranked by amount given \n",
    "amount_gift_quants = pd.DataFrame(foreigngifts.groupby(foreigngifts['Country of Giftor'])[\"Foreign Gift Amount\"].sum())\n",
    "# then we sort these by amount\n",
    "amount_gift_quants = amount_gift_quants.sort_values(by=\"Foreign Gift Amount\",ascending=False) \n",
    "amount_gift_quants.head(15)"
   ]
  },
  {
   "cell_type": "markdown",
   "metadata": {},
   "source": [
    "#### part six "
   ]
  },
  {
   "cell_type": "markdown",
   "metadata": {},
   "source": [
    "6. What are the top 15 institutions in terms of the total amount of money they receive? Make a histogram of the total amount received by all institutions. "
   ]
  },
  {
   "cell_type": "code",
   "execution_count": 34,
   "metadata": {},
   "outputs": [
    {
     "data": {
      "text/html": [
       "<div>\n",
       "<style scoped>\n",
       "    .dataframe tbody tr th:only-of-type {\n",
       "        vertical-align: middle;\n",
       "    }\n",
       "\n",
       "    .dataframe tbody tr th {\n",
       "        vertical-align: top;\n",
       "    }\n",
       "\n",
       "    .dataframe thead th {\n",
       "        text-align: right;\n",
       "    }\n",
       "</style>\n",
       "<table border=\"1\" class=\"dataframe\">\n",
       "  <thead>\n",
       "    <tr style=\"text-align: right;\">\n",
       "      <th></th>\n",
       "      <th>Foreign Gift Amount</th>\n",
       "    </tr>\n",
       "    <tr>\n",
       "      <th>Institution Name</th>\n",
       "      <th></th>\n",
       "    </tr>\n",
       "  </thead>\n",
       "  <tbody>\n",
       "    <tr>\n",
       "      <th>Carnegie Mellon University</th>\n",
       "      <td>1477922504</td>\n",
       "    </tr>\n",
       "    <tr>\n",
       "      <th>Cornell University</th>\n",
       "      <td>1289937761</td>\n",
       "    </tr>\n",
       "    <tr>\n",
       "      <th>Harvard University</th>\n",
       "      <td>954803610</td>\n",
       "    </tr>\n",
       "    <tr>\n",
       "      <th>Massachusetts Institute of Technology</th>\n",
       "      <td>859071692</td>\n",
       "    </tr>\n",
       "    <tr>\n",
       "      <th>Yale University</th>\n",
       "      <td>613441311</td>\n",
       "    </tr>\n",
       "    <tr>\n",
       "      <th>Texas A&amp;M University</th>\n",
       "      <td>521455050</td>\n",
       "    </tr>\n",
       "    <tr>\n",
       "      <th>Johns Hopkins University</th>\n",
       "      <td>502409595</td>\n",
       "    </tr>\n",
       "    <tr>\n",
       "      <th>Northwestern University</th>\n",
       "      <td>402316221</td>\n",
       "    </tr>\n",
       "    <tr>\n",
       "      <th>Georgetown University</th>\n",
       "      <td>379950511</td>\n",
       "    </tr>\n",
       "    <tr>\n",
       "      <th>University of Chicago (The)</th>\n",
       "      <td>364544338</td>\n",
       "    </tr>\n",
       "    <tr>\n",
       "      <th>University of Colorado Boulder</th>\n",
       "      <td>360173159</td>\n",
       "    </tr>\n",
       "    <tr>\n",
       "      <th>Duke University</th>\n",
       "      <td>343699498</td>\n",
       "    </tr>\n",
       "    <tr>\n",
       "      <th>Brigham Young University</th>\n",
       "      <td>323509863</td>\n",
       "    </tr>\n",
       "    <tr>\n",
       "      <th>Stanford University</th>\n",
       "      <td>319561362</td>\n",
       "    </tr>\n",
       "    <tr>\n",
       "      <th>University of Texas MD Anderson Cancer Center</th>\n",
       "      <td>301527419</td>\n",
       "    </tr>\n",
       "  </tbody>\n",
       "</table>\n",
       "</div>"
      ],
      "text/plain": [
       "                                               Foreign Gift Amount\n",
       "Institution Name                                                  \n",
       "Carnegie Mellon University                              1477922504\n",
       "Cornell University                                      1289937761\n",
       "Harvard University                                       954803610\n",
       "Massachusetts Institute of Technology                    859071692\n",
       "Yale University                                          613441311\n",
       "Texas A&M University                                     521455050\n",
       "Johns Hopkins University                                 502409595\n",
       "Northwestern University                                  402316221\n",
       "Georgetown University                                    379950511\n",
       "University of Chicago (The)                              364544338\n",
       "University of Colorado Boulder                           360173159\n",
       "Duke University                                          343699498\n",
       "Brigham Young University                                 323509863\n",
       "Stanford University                                      319561362\n",
       "University of Texas MD Anderson Cancer Center            301527419"
      ]
     },
     "execution_count": 34,
     "metadata": {},
     "output_type": "execute_result"
    }
   ],
   "source": [
    "# top fifteen institutions in terms of money received\n",
    "amount_gift_inst = pd.DataFrame(foreigngifts.groupby(foreigngifts['Institution Name'])[\"Foreign Gift Amount\"].sum())\n",
    "amount_gift_inst = amount_gift_inst.sort_values(by=\"Foreign Gift Amount\", ascending=False)\n",
    "amount_gift_inst.head(15)"
   ]
  },
  {
   "cell_type": "code",
   "execution_count": 35,
   "metadata": {},
   "outputs": [
    {
     "data": {
      "text/plain": [
       "Index(['Foreign Gift Amount'], dtype='object')"
      ]
     },
     "execution_count": 35,
     "metadata": {},
     "output_type": "execute_result"
    }
   ],
   "source": [
    "# are our columns are indices now? \n",
    "amount_gift_inst.columns"
   ]
  },
  {
   "cell_type": "code",
   "execution_count": 36,
   "metadata": {},
   "outputs": [
    {
     "data": {
      "text/plain": [
       "Index(['Carnegie Mellon University', 'Cornell University',\n",
       "       'Harvard University', 'Massachusetts Institute of Technology',\n",
       "       'Yale University', 'Texas A&M University', 'Johns Hopkins University',\n",
       "       'Northwestern University', 'Georgetown University',\n",
       "       'University of Chicago (The)',\n",
       "       ...\n",
       "       'California State University, Dominguez Hills', 'Yeshiva University',\n",
       "       'Marquette University', 'Bates College',\n",
       "       'Beth Medrash Govoha of America', 'Jacksonville State University',\n",
       "       'Metropolitan State University', 'University of California, Merced',\n",
       "       'University of Central Oklahoma', 'University of Jamestown'],\n",
       "      dtype='object', name='Institution Name', length=318)"
      ]
     },
     "execution_count": 36,
     "metadata": {},
     "output_type": "execute_result"
    }
   ],
   "source": [
    "# i guess so. let's take a look. i think it's a side effect of groupby(). \n",
    "amount_gift_inst.index"
   ]
  },
  {
   "cell_type": "code",
   "execution_count": 37,
   "metadata": {},
   "outputs": [
    {
     "data": {
      "text/plain": [
       "<BarContainer object of 318 artists>"
      ]
     },
     "execution_count": 37,
     "metadata": {},
     "output_type": "execute_result"
    },
    {
     "data": {
      "image/png": "[encoded data removed]",
      "text/plain": [
       "<Figure size 640x480 with 1 Axes>"
      ]
     },
     "metadata": {},
     "output_type": "display_data"
    }
   ],
   "source": [
    "# histogram (erm akshually it's a bar chart...histograms have...\n",
    "# ...quantitative values on the x-axis.) \n",
    "x=amount_gift_inst.index\n",
    "y=amount_gift_inst[\"Foreign Gift Amount\"]\n",
    "plt.bar(x, y) \n",
    "# it's like the lobotomy graph in class. "
   ]
  },
  {
   "cell_type": "code",
   "execution_count": 38,
   "metadata": {
    "scrolled": true
   },
   "outputs": [
    {
     "data": {
      "text/plain": [
       "(array([291.,  11.,   9.,   2.,   1.,   1.,   1.,   0.,   1.,   1.]),\n",
       " array([5.00000000e+02, 1.47792700e+08, 2.95584901e+08, 4.43377101e+08,\n",
       "        5.91169302e+08, 7.38961502e+08, 8.86753702e+08, 1.03454590e+09,\n",
       "        1.18233810e+09, 1.33013030e+09, 1.47792250e+09]),\n",
       " <BarContainer object of 10 artists>)"
      ]
     },
     "execution_count": 38,
     "metadata": {},
     "output_type": "execute_result"
    },
    {
     "data": {
      "image/png": "[encoded data removed]",
      "text/plain": [
       "<Figure size 640x480 with 1 Axes>"
      ]
     },
     "metadata": {},
     "output_type": "display_data"
    }
   ],
   "source": [
    "# it will be more useful, for our purposes, to make a histogram of...\n",
    "# ...frequency at which institutions tend to receive gifts within certain...\n",
    "# ...ranges\n",
    "plt.hist(amount_gift_inst)\n",
    "# absurdly unhelpful graph considering certain institutions receive gifts...\n",
    "# ...that are FAR greater than others'. "
   ]
  },
  {
   "cell_type": "code",
   "execution_count": 39,
   "metadata": {},
   "outputs": [
    {
     "data": {
      "text/html": [
       "<div>\n",
       "<style scoped>\n",
       "    .dataframe tbody tr th:only-of-type {\n",
       "        vertical-align: middle;\n",
       "    }\n",
       "\n",
       "    .dataframe tbody tr th {\n",
       "        vertical-align: top;\n",
       "    }\n",
       "\n",
       "    .dataframe thead th {\n",
       "        text-align: right;\n",
       "    }\n",
       "</style>\n",
       "<table border=\"1\" class=\"dataframe\">\n",
       "  <thead>\n",
       "    <tr style=\"text-align: right;\">\n",
       "      <th></th>\n",
       "      <th>Foreign Gift Amount</th>\n",
       "    </tr>\n",
       "  </thead>\n",
       "  <tbody>\n",
       "    <tr>\n",
       "      <th>count</th>\n",
       "      <td>3.180000e+02</td>\n",
       "    </tr>\n",
       "    <tr>\n",
       "      <th>mean</th>\n",
       "      <td>5.220288e+07</td>\n",
       "    </tr>\n",
       "    <tr>\n",
       "      <th>std</th>\n",
       "      <td>1.535716e+08</td>\n",
       "    </tr>\n",
       "    <tr>\n",
       "      <th>min</th>\n",
       "      <td>5.000000e+02</td>\n",
       "    </tr>\n",
       "    <tr>\n",
       "      <th>25%</th>\n",
       "      <td>1.588842e+06</td>\n",
       "    </tr>\n",
       "    <tr>\n",
       "      <th>50%</th>\n",
       "      <td>6.486792e+06</td>\n",
       "    </tr>\n",
       "    <tr>\n",
       "      <th>75%</th>\n",
       "      <td>3.177063e+07</td>\n",
       "    </tr>\n",
       "    <tr>\n",
       "      <th>max</th>\n",
       "      <td>1.477923e+09</td>\n",
       "    </tr>\n",
       "  </tbody>\n",
       "</table>\n",
       "</div>"
      ],
      "text/plain": [
       "       Foreign Gift Amount\n",
       "count         3.180000e+02\n",
       "mean          5.220288e+07\n",
       "std           1.535716e+08\n",
       "min           5.000000e+02\n",
       "25%           1.588842e+06\n",
       "50%           6.486792e+06\n",
       "75%           3.177063e+07\n",
       "max           1.477923e+09"
      ]
     },
     "execution_count": 39,
     "metadata": {},
     "output_type": "execute_result"
    }
   ],
   "source": [
    "# wanna see what summary statistics we have so we know what transformation...\n",
    "# ...to use \n",
    "amount_gift_inst.describe()\n",
    "# YEAH WE CAN USE LOG. NO NEGATIVE NUMBERS"
   ]
  },
  {
   "cell_type": "code",
   "execution_count": 40,
   "metadata": {},
   "outputs": [
    {
     "data": {
      "text/plain": [
       "Text(0.5, 1.0, 'distribution of total amount of gift money received by institutions')"
      ]
     },
     "execution_count": 40,
     "metadata": {},
     "output_type": "execute_result"
    },
    {
     "data": {
      "image/png": "[encoded data removed]",
      "text/plain": [
       "<Figure size 640x480 with 1 Axes>"
      ]
     },
     "metadata": {},
     "output_type": "display_data"
    }
   ],
   "source": [
    "# we can transform the data we have. \n",
    "amt_gift_inst_log = np.log(amount_gift_inst)\n",
    "fig, ax = plt.subplots()\n",
    "# and make the histogram. \n",
    "ax.hist(amt_gift_inst_log, bins=22, color=\"#82abf2\")\n",
    "ax.set_ylabel(\"number of institutions\") \n",
    "ax.set_xlabel(\"log of total gift money received\")\n",
    "ax.set_title(\"distribution of total amount of gift money received by institutions\") "
   ]
  },
  {
   "cell_type": "markdown",
   "metadata": {},
   "source": [
    "#### part seven"
   ]
  },
  {
   "cell_type": "code",
   "execution_count": 41,
   "metadata": {},
   "outputs": [
    {
     "data": {
      "text/html": [
       "<div>\n",
       "<style scoped>\n",
       "    .dataframe tbody tr th:only-of-type {\n",
       "        vertical-align: middle;\n",
       "    }\n",
       "\n",
       "    .dataframe tbody tr th {\n",
       "        vertical-align: top;\n",
       "    }\n",
       "\n",
       "    .dataframe thead th {\n",
       "        text-align: right;\n",
       "    }\n",
       "</style>\n",
       "<table border=\"1\" class=\"dataframe\">\n",
       "  <thead>\n",
       "    <tr style=\"text-align: right;\">\n",
       "      <th></th>\n",
       "      <th>Foreign Gift Amount</th>\n",
       "    </tr>\n",
       "    <tr>\n",
       "      <th>Giftor Name</th>\n",
       "      <th></th>\n",
       "    </tr>\n",
       "  </thead>\n",
       "  <tbody>\n",
       "    <tr>\n",
       "      <th>qatar foundation</th>\n",
       "      <td>1166503744</td>\n",
       "    </tr>\n",
       "    <tr>\n",
       "      <th>qatar foundation/qatar national res</th>\n",
       "      <td>796197000</td>\n",
       "    </tr>\n",
       "    <tr>\n",
       "      <th>qatar foundation for education</th>\n",
       "      <td>373945215</td>\n",
       "    </tr>\n",
       "    <tr>\n",
       "      <th>anonymous</th>\n",
       "      <td>340875204</td>\n",
       "    </tr>\n",
       "    <tr>\n",
       "      <th>saudi arabian cultural mission</th>\n",
       "      <td>277598687</td>\n",
       "    </tr>\n",
       "    <tr>\n",
       "      <th>hcl</th>\n",
       "      <td>190000000</td>\n",
       "    </tr>\n",
       "    <tr>\n",
       "      <th>church of jesus christ of lds</th>\n",
       "      <td>185203715</td>\n",
       "    </tr>\n",
       "    <tr>\n",
       "      <th>emirates institute for advanced sc</th>\n",
       "      <td>170641244</td>\n",
       "    </tr>\n",
       "    <tr>\n",
       "      <th>qic</th>\n",
       "      <td>148355497</td>\n",
       "    </tr>\n",
       "    <tr>\n",
       "      <th>anonymous #9</th>\n",
       "      <td>96334996</td>\n",
       "    </tr>\n",
       "    <tr>\n",
       "      <th>qatar national research fund</th>\n",
       "      <td>79021705</td>\n",
       "    </tr>\n",
       "    <tr>\n",
       "      <th>government of saudi arabia</th>\n",
       "      <td>75192434</td>\n",
       "    </tr>\n",
       "    <tr>\n",
       "      <th>contracting party</th>\n",
       "      <td>69996984</td>\n",
       "    </tr>\n",
       "    <tr>\n",
       "      <th>cmkl university</th>\n",
       "      <td>67700000</td>\n",
       "    </tr>\n",
       "    <tr>\n",
       "      <th>royal embassy of saudi arabia</th>\n",
       "      <td>67062486</td>\n",
       "    </tr>\n",
       "  </tbody>\n",
       "</table>\n",
       "</div>"
      ],
      "text/plain": [
       "                                     Foreign Gift Amount\n",
       "Giftor Name                                             \n",
       "qatar foundation                              1166503744\n",
       "qatar foundation/qatar national res            796197000\n",
       "qatar foundation for education                 373945215\n",
       "anonymous                                      340875204\n",
       "saudi arabian cultural mission                 277598687\n",
       "hcl                                            190000000\n",
       "church of jesus christ of lds                  185203715\n",
       "emirates institute for advanced sc             170641244\n",
       "qic                                            148355497\n",
       "anonymous #9                                    96334996\n",
       "qatar national research fund                    79021705\n",
       "government of saudi arabia                      75192434\n",
       "contracting party                               69996984\n",
       "cmkl university                                 67700000\n",
       "royal embassy of saudi arabia                   67062486"
      ]
     },
     "execution_count": 41,
     "metadata": {},
     "output_type": "execute_result"
    }
   ],
   "source": [
    "# can we make a table of giftors? \n",
    "foreigngifts[\"Giftor Name\"] = foreigngifts[\"Giftor Name\"].str.lower()\n",
    "giftor_totals = pd.DataFrame(foreigngifts.groupby(foreigngifts[\"Giftor Name\"])[\"Foreign Gift Amount\"].sum())\n",
    "giftor_totals.sort_values([\"Foreign Gift Amount\"], ascending=False).head(15)\n",
    "# the DATA IS SO UNCLEAN WOW "
   ]
  },
  {
   "cell_type": "code",
   "execution_count": 42,
   "metadata": {},
   "outputs": [
    {
     "data": {
      "text/html": [
       "<div>\n",
       "<style scoped>\n",
       "    .dataframe tbody tr th:only-of-type {\n",
       "        vertical-align: middle;\n",
       "    }\n",
       "\n",
       "    .dataframe tbody tr th {\n",
       "        vertical-align: top;\n",
       "    }\n",
       "\n",
       "    .dataframe thead th {\n",
       "        text-align: right;\n",
       "    }\n",
       "</style>\n",
       "<table border=\"1\" class=\"dataframe\">\n",
       "  <thead>\n",
       "    <tr style=\"text-align: right;\">\n",
       "      <th></th>\n",
       "      <th>count</th>\n",
       "    </tr>\n",
       "    <tr>\n",
       "      <th>Giftor Name</th>\n",
       "      <th></th>\n",
       "    </tr>\n",
       "  </thead>\n",
       "  <tbody>\n",
       "    <tr>\n",
       "      <th>\"spenninger, claus\"</th>\n",
       "      <td>1</td>\n",
       "    </tr>\n",
       "    <tr>\n",
       "      <th>école polytechnique fédérale</th>\n",
       "      <td>1</td>\n",
       "    </tr>\n",
       "    <tr>\n",
       "      <th>\"bremer, patrick\"</th>\n",
       "      <td>1</td>\n",
       "    </tr>\n",
       "    <tr>\n",
       "      <th>\"buzzi, stephane\"</th>\n",
       "      <td>1</td>\n",
       "    </tr>\n",
       "    <tr>\n",
       "      <th>\"imachi, hiroyuki\"</th>\n",
       "      <td>1</td>\n",
       "    </tr>\n",
       "    <tr>\n",
       "      <th>...</th>\n",
       "      <td>...</td>\n",
       "    </tr>\n",
       "    <tr>\n",
       "      <th>zhu, jun</th>\n",
       "      <td>1</td>\n",
       "    </tr>\n",
       "    <tr>\n",
       "      <th>zhu, kejun</th>\n",
       "      <td>1</td>\n",
       "    </tr>\n",
       "    <tr>\n",
       "      <th>zhu, steven</th>\n",
       "      <td>1</td>\n",
       "    </tr>\n",
       "    <tr>\n",
       "      <th>zhu, wenbin</th>\n",
       "      <td>1</td>\n",
       "    </tr>\n",
       "    <tr>\n",
       "      <th>zhu, zhe</th>\n",
       "      <td>1</td>\n",
       "    </tr>\n",
       "  </tbody>\n",
       "</table>\n",
       "<p>8378 rows × 1 columns</p>\n",
       "</div>"
      ],
      "text/plain": [
       "                              count\n",
       "Giftor Name                        \n",
       "\"spenninger, claus\"               1\n",
       "école polytechnique fédérale      1\n",
       "\"bremer, patrick\"                 1\n",
       "\"buzzi, stephane\"                 1\n",
       "\"imachi, hiroyuki\"                1\n",
       "...                             ...\n",
       "zhu, jun                          1\n",
       "zhu, kejun                        1\n",
       "zhu, steven                       1\n",
       "zhu, wenbin                       1\n",
       "zhu, zhe                          1\n",
       "\n",
       "[8378 rows x 1 columns]"
      ]
     },
     "execution_count": 42,
     "metadata": {},
     "output_type": "execute_result"
    }
   ],
   "source": [
    "# surveying what we have to begin the cleaning process\n",
    "all_giftors = giftor_totals.index\n",
    "# count all elements in the list \n",
    "pd.DataFrame(all_giftors.value_counts()).sort_values([\"count\"], ascending=False)\n",
    "# IS THERE SERIOUSLY ONE OF EACH ELEMENT "
   ]
  },
  {
   "cell_type": "code",
   "execution_count": 43,
   "metadata": {},
   "outputs": [],
   "source": [
    "# because i only have so much time, i'd like to refer back to the table...\n",
    "# ...where the values are sorted by the quantity each donor donated. \n",
    "\n",
    "# the most money seems to come from: \n",
    "    # the qatar foundation \n",
    "    # the saudi government (through the saudi cultural mission or elsewhere),\n",
    "    # and HCL (which is an IT company based in noida, india). "
   ]
  },
  {
   "cell_type": "markdown",
   "metadata": {},
   "source": [
    "**Q3.** This question uses the Airbnb data to practice making visualizations.\n",
    "\n",
    "  1. Load the `./data/airbnb_hw.csv` data with Pandas. This provides a dataset of AirBnB rental properties for New York City.  \n",
    "  2. What are are the dimensions of the data? How many observations are there? What are the variables included? Use `.head()` to examine the first few rows of data.\n",
    "  3. Cross tabulate `Room Type` and `Property Type`. What patterns do you see in what kinds of rentals are available? For which kinds of properties are private rooms more common than renting the entire property?\n",
    "  4. For `Price`, make a histogram, kernel density, box plot, and a statistical description of the variable. Are the data badly scaled? Are there many outliers? Use `log` to transform price into a new variable, `price_log`, and take these steps again.\n",
    "  5. Make a scatterplot of `price_log` and `Beds`. Describe what you see. Use `.groupby()` to compute a desciption of `Price` conditional on/grouped by the number of beds. Describe any patterns you see in the average price and standard deviation in prices.\n",
    "  6. Make a scatterplot of `price_log` and `Beds`, but color the graph by `Room Type` and `Property Type`. What patterns do you see? Compute a description of `Price` conditional on `Room Type` and `Property Type`. Which Room Type and Property Type have the highest prices on average? Which have the highest standard deviation? Does the mean or median appear to be a more reliable estimate of central tendency, and explain why?\n",
    "  7. We've looked a bit at this `price_log` and `Beds` scatterplot. Use seaborn to make a `jointplot` with `kind=hex`. Where are the data actually distributed? How does it affect the way you think about the plots in 5 and 6?"
   ]
  },
  {
   "cell_type": "markdown",
   "metadata": {},
   "source": [
    "**Q4.** This question looks at a time series of the number of active oil drilling rigs in the United States over time. The data comes from the Energy Information Agency.\n",
    "\n",
    "1. Load `./data/drilling_rigs.csv` and examine the data. How many observations? How many variables? Are numeric variables correctly read in by Pandas, or will some variables have to be typecast/coerced? Explain clearly how these data need to be cleaned.\n",
    "2. To convert the `Month` variable to an ordered datetime variable, use `df['time'] = pd.to_datetime(df['Month'], format='mixed')`.\n",
    "3. Let's look at `Active Well Service Rig Count (Number of Rigs)`, which is the total number of rigs over time. Make a line plot of this time series. Describe what you see.\n",
    "4. Instead of levels, we want to look at change over time. Compute the first difference of  `Active Well Service Rig Count (Number of Rigs)` and plot it over time. Describe what you see.\n",
    "5. The first two columns are the number of onshore and offshore rigs, respectively. Melt these columns and plot the resulting series."
   ]
  }
 ],
 "metadata": {
  "kernelspec": {
   "display_name": "Python 3 (ipykernel)",
   "language": "python",
   "name": "python3"
  },
  "language_info": {
   "codemirror_mode": {
    "name": "ipython",
    "version": 3
   },
   "file_extension": ".py",
   "mimetype": "text/x-python",
   "name": "python",
   "nbconvert_exporter": "python",
   "pygments_lexer": "ipython3",
   "version": "3.12.7"
  }
 },
 "nbformat": 4,
 "nbformat_minor": 4
}
